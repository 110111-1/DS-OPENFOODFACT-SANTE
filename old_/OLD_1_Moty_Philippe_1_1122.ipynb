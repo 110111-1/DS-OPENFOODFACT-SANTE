{
 "cells": [
  {
   "cell_type": "markdown",
   "id": "d2eb864b",
   "metadata": {
    "toc": true
   },
   "source": [
    "<h1>Projet-3 : Concevez une application au service de la santé publique<span class=\"tocSkip\"></span></h1>\n",
    "<div class=\"toc\"><ul class=\"toc-item\"><li><span><a href=\"#Projet-3-:-Concevez-une-application-au-service-de-la-santé-publique\" data-toc-modified-id=\"Projet-3-:-Concevez-une-application-au-service-de-la-santé-publique-1\">Projet-3 : Concevez une application au service de la santé publique</a></span><ul class=\"toc-item\"><li><span><a href=\"#Introduction\" data-toc-modified-id=\"Introduction-1.1\">Introduction</a></span></li><li><span><a href=\"#Environnement\" data-toc-modified-id=\"Environnement-1.2\">Environnement</a></span></li></ul></li><li><span><a href=\"#1.-Chargement-des-données\" data-toc-modified-id=\"1.-Chargement-des-données-2\">1. Chargement des données</a></span></li><li><span><a href=\"#2.-Nettoyage-du-jeu-de-données\" data-toc-modified-id=\"2.-Nettoyage-du-jeu-de-données-3\">2. Nettoyage du jeu de données</a></span><ul class=\"toc-item\"><li><ul class=\"toc-item\"><li><span><a href=\"#2.1-Nettoyage-des-types\" data-toc-modified-id=\"2.1-Nettoyage-des-types-3.0.1\">2.1 Nettoyage des types</a></span></li><li><span><a href=\"#2.2-Les-NaN\" data-toc-modified-id=\"2.2-Les-NaN-3.0.2\">2.2 Les NaN</a></span><ul class=\"toc-item\"><li><span><a href=\"#On-supprime-les-colonnes-qui-ne-sont-jamais-utilisées\" data-toc-modified-id=\"On-supprime-les-colonnes-qui-ne-sont-jamais-utilisées-3.0.2.1\">On supprime les colonnes qui ne sont jamais utilisées</a></span></li></ul></li></ul></li></ul></li><li><span><a href=\"#3.1-On-explore-les-GENERAL-INFORMATION\" data-toc-modified-id=\"3.1-On-explore-les-GENERAL-INFORMATION-4\">3.1 On explore les GENERAL INFORMATION</a></span><ul class=\"toc-item\"><li><ul class=\"toc-item\"><li><ul class=\"toc-item\"><li><span><a href=\"#Recherche-des-doublons-(colonnes)\" data-toc-modified-id=\"Recherche-des-doublons-(colonnes)-4.0.0.1\">Recherche des doublons (colonnes)</a></span></li><li><span><a href=\"#Recherche-des-doublons-(lignes)\" data-toc-modified-id=\"Recherche-des-doublons-(lignes)-4.0.0.2\">Recherche des doublons (lignes)</a></span></li></ul></li><li><span><a href=\"#3.1.1-Créateurs\" data-toc-modified-id=\"3.1.1-Créateurs-4.0.1\">3.1.1 Créateurs</a></span></li><li><span><a href=\"#3.1.1-Les-dates\" data-toc-modified-id=\"3.1.1-Les-dates-4.0.2\">3.1.1 Les dates</a></span></li><li><span><a href=\"#3.1.3-Les-produits\" data-toc-modified-id=\"3.1.3-Les-produits-4.0.3\">3.1.3 Les produits</a></span></li></ul></li></ul></li><li><span><a href=\"#3.2-On-explore-les-TAGS\" data-toc-modified-id=\"3.2-On-explore-les-TAGS-5\">3.2 On explore les TAGS</a></span><ul class=\"toc-item\"><li><ul class=\"toc-item\"><li><span><a href=\"#3.2.1-Les-categories\" data-toc-modified-id=\"3.2.1-Les-categories-5.0.1\">3.2.1 Les categories</a></span></li><li><span><a href=\"#3.2.2-Produits-et-Marques\" data-toc-modified-id=\"3.2.2-Produits-et-Marques-5.0.2\">3.2.2 Produits et Marques</a></span></li><li><span><a href=\"#3.2.3-Les-Pays\" data-toc-modified-id=\"3.2.3-Les-Pays-5.0.3\">3.2.3 Les Pays</a></span><ul class=\"toc-item\"><li><span><a href=\"#On-charge-la-listes-des-pays-officiel-pour-supprimer-les-pays-non-conformes-à-la-liste-des-pays-du-ministère-des-affaire-étrangères-francais\" data-toc-modified-id=\"On-charge-la-listes-des-pays-officiel-pour-supprimer-les-pays-non-conformes-à-la-liste-des-pays-du-ministère-des-affaire-étrangères-francais-5.0.3.1\">On charge la listes des pays officiel pour supprimer les pays non conformes à la liste des pays du ministère des affaire étrangères francais</a></span></li><li><span><a href=\"#Bilan\" data-toc-modified-id=\"Bilan-5.0.3.2\">Bilan</a></span></li></ul></li></ul></li></ul></li><li><span><a href=\"#3.3-On-explore-les-INGREDIENTS\" data-toc-modified-id=\"3.3-On-explore-les-INGREDIENTS-6\">3.3 On explore les INGREDIENTS</a></span><ul class=\"toc-item\"><li><span><a href=\"#3.3.1-On-identifie-la-variable-qui-représente-le-mieux-les-catégories\" data-toc-modified-id=\"3.3.1-On-identifie-la-variable-qui-représente-le-mieux-les-catégories-6.1\">3.3.1 On identifie la variable qui représente le mieux les catégories</a></span></li></ul></li><li><span><a href=\"#On-explore-les-NUTRITION-FACTS\" data-toc-modified-id=\"On-explore-les-NUTRITION-FACTS-7\">On explore les NUTRITION FACTS</a></span><ul class=\"toc-item\"><li><ul class=\"toc-item\"><li><ul class=\"toc-item\"><li><span><a href=\"#Idée-d'application\" data-toc-modified-id=\"Idée-d'application-7.0.0.1\">Idée d'application</a></span></li></ul></li></ul></li></ul></li><li><span><a href=\"#4.-Nettoyage-du-jeu-de-données-pour-notre-application\" data-toc-modified-id=\"4.-Nettoyage-du-jeu-de-données-pour-notre-application-8\">4. Nettoyage du jeu de données pour notre application</a></span><ul class=\"toc-item\"><li><ul class=\"toc-item\"><li><ul class=\"toc-item\"><li><span><a href=\"#last_modified_t-:\" data-toc-modified-id=\"last_modified_t-:-8.0.0.1\">last_modified_t :</a></span></li><li><span><a href=\"#Les-Categories-:\" data-toc-modified-id=\"Les-Categories-:-8.0.0.2\">Les Categories :</a></span></li><li><span><a href=\"#COUNTRY\" data-toc-modified-id=\"COUNTRY-8.0.0.3\">COUNTRY</a></span></li></ul></li></ul></li><li><span><a href=\"#VOIR-SI-KMEANS-OU-KNN-PEUT-ËTRE-UTILISE\" data-toc-modified-id=\"VOIR-SI-KMEANS-OU-KNN-PEUT-ËTRE-UTILISE-8.1\">VOIR SI KMEANS OU KNN PEUT ËTRE UTILISE</a></span></li><li><span><a href=\"#4.-Les-valeurs-aberrantes\" data-toc-modified-id=\"4.-Les-valeurs-aberrantes-8.2\">4. Les valeurs aberrantes</a></span></li></ul></li><li><span><a href=\"#ENERGY\" data-toc-modified-id=\"ENERGY-9\">ENERGY</a></span></li><li><span><a href=\"#MIN\" data-toc-modified-id=\"MIN-10\">MIN</a></span></li></ul></div>"
   ]
  },
  {
   "cell_type": "markdown",
   "id": "36b58d00",
   "metadata": {},
   "source": [
    "<a name='sommaire'>\n",
    "    <img src=\"assets/img/combo_logo.jpg\" />\n",
    "</a>"
   ]
  },
  {
   "cell_type": "markdown",
   "id": "10b94ed6",
   "metadata": {},
   "source": [
    "# Projet-3 : Concevez une application au service de la santé publique\n",
    "## Introduction \n",
    "***\n",
    "- **Source des données** : Open Food Facts répertorie les informations sur les produits alimentaires : ingrédients, informations nutritionnelles, labels etc.\n",
    "    - Les données proviennent majoritairement de la collecte citoyenne (crowdsourcing) des informations.\n",
    "***\n",
    "- **Utilisation de la base** : \n",
    "    - Traiter le jeu de données afin de repérer des variables pertinentes pour les traitements à venir. Automatiser ces traitements pour éviter de répéter ces opérations.\n",
    "    - **Idée de l'application** : aide à l'identification des produits à surveiller dans le cas de régime alimentaire liées à la surveillance en utilisant la base d'OpenFood Facts\n",
    "***\n",
    "## Environnement"
   ]
  },
  {
   "cell_type": "code",
   "execution_count": 1,
   "id": "a621c005",
   "metadata": {},
   "outputs": [],
   "source": [
    "import pandas as pd\n",
    "import numpy as np\n",
    "import datetime as dt\n",
    "import sys\n",
    "import warnings\n",
    "import IPython as ip\n",
    "import matplotlib.pyplot as plt\n",
    "import seaborn as sns\n",
    "from IPython.display import display\n",
    "import missingno as msno \n",
    "# Configuration pour travail avec fichier python \"tools\" de fonctions\n",
    "%load_ext autoreload\n",
    "%aimport tools\n",
    "\n",
    "# Set option\n",
    "pd.set_option('display.max_columns', None)\n",
    "pd.set_option('display.max_rows', None)\n",
    "\n",
    "# Recharger les modules pour la conception des fichiers tools\n",
    "\n",
    "%autoreload 1\n",
    "\n",
    "warnings.filterwarnings(\"ignore\")"
   ]
  },
  {
   "cell_type": "markdown",
   "id": "f54a891a",
   "metadata": {},
   "source": [
    "# 1. Chargement des données"
   ]
  },
  {
   "cell_type": "code",
   "execution_count": 2,
   "id": "997598e5",
   "metadata": {},
   "outputs": [],
   "source": [
    "# Import données\n",
    "data = pd.read_csv('assets/datas/openfoodfacts.csv', sep='\\t', low_memory=False)"
   ]
  },
  {
   "cell_type": "markdown",
   "id": "092a81b7",
   "metadata": {},
   "source": [
    "# 2. Nettoyage du jeu de données"
   ]
  },
  {
   "cell_type": "code",
   "execution_count": 3,
   "id": "cbf566af",
   "metadata": {},
   "outputs": [
    {
     "ename": "TypeError",
     "evalue": "get_info_data() got an unexpected keyword argument 'doublon'",
     "output_type": "error",
     "traceback": [
      "\u001b[1;31m---------------------------------------------------------------------------\u001b[0m",
      "\u001b[1;31mTypeError\u001b[0m                                 Traceback (most recent call last)",
      "Cell \u001b[1;32mIn [3], line 2\u001b[0m\n\u001b[0;32m      1\u001b[0m \u001b[38;5;66;03m# Afficher le nombre de lignes de colonnes et de doublon je de données initial\u001b[39;00m\n\u001b[1;32m----> 2\u001b[0m \u001b[43mtools\u001b[49m\u001b[38;5;241;43m.\u001b[39;49m\u001b[43mget_info_data\u001b[49m\u001b[43m(\u001b[49m\u001b[43mdata\u001b[49m\u001b[43m,\u001b[49m\u001b[43mdoublon\u001b[49m\u001b[38;5;241;43m=\u001b[39;49m\u001b[38;5;28;43;01mTrue\u001b[39;49;00m\u001b[43m)\u001b[49m\n",
      "\u001b[1;31mTypeError\u001b[0m: get_info_data() got an unexpected keyword argument 'doublon'"
     ]
    }
   ],
   "source": [
    "# Afficher le nombre de lignes de colonnes et de doublon je de données initial\n",
    "tools.get_info_data(data,doublon=True)"
   ]
  },
  {
   "cell_type": "code",
   "execution_count": null,
   "id": "c666581a",
   "metadata": {
    "hide_input": false,
    "scrolled": false
   },
   "outputs": [],
   "source": [
    "# Afficher les 3 premières lignes du jeu de données \n",
    "data.head(3)"
   ]
  },
  {
   "cell_type": "code",
   "execution_count": null,
   "id": "2f6b976c",
   "metadata": {},
   "outputs": [],
   "source": [
    "# Création d'un df de travail\n",
    "df = data.copy()"
   ]
  },
  {
   "cell_type": "markdown",
   "id": "76f0c771",
   "metadata": {},
   "source": [
    "### 2.1 Nettoyage des types"
   ]
  },
  {
   "cell_type": "code",
   "execution_count": null,
   "id": "9ee7f327",
   "metadata": {
    "scrolled": false
   },
   "outputs": [],
   "source": [
    "tools.get_types_variables(df,True,True,True)"
   ]
  },
  {
   "cell_type": "markdown",
   "id": "41c2dfcc",
   "metadata": {},
   "source": [
    "**Erreurs de formattage** : \n",
    "- On convertie  'created_datetime','last_modified_datetime' en date\n",
    "\n",
    "**Erreurs lexicales** : dans les colonnes 'created_datetime','last_modified_datetime \n",
    "- On supprime les erreurs en les remplaçant par NaN\n"
   ]
  },
  {
   "cell_type": "code",
   "execution_count": null,
   "id": "97fc3724",
   "metadata": {},
   "outputs": [],
   "source": [
    "# On supprime les erreurs\n",
    "df.loc[df['created_datetime']=='Dia,Sogeres','created_datetime']='NaN'\n",
    "df.loc[df['created_datetime']=='SuperU','created_datetime']='NaN'\n",
    "df.loc[df['created_datetime']=='Carrefour','created_datetime']='NaN'\n",
    "df.loc[df['created_datetime']=='Auchan','created_datetime']='NaN'\n",
    "df.loc[df['created_datetime']=='Carrefour market','created_datetime']='NaN'\n",
    "df.loc[df['created_datetime']=='SuperU,Leclerc','created_datetime']='NaN'\n",
    "df.loc[df['created_datetime']=='Spar','created_datetime']='NaN'\n",
    "df.loc[df['created_datetime']=='Banque alimentaire','created_datetime']='NaN'\n",
    "df.loc[df['created_datetime']=='Leclerc','created_datetime']='NaN'\n",
    "df.loc[df['created_datetime']=='Auchan,Super U','created_datetime']='NaN'\n",
    "df.loc[df['created_datetime']=='Super U,Leclerc,Carrefour','created_datetime']='NaN'\n",
    "df.loc[df['created_datetime']=='Cora','created_datetime']='NaN'\n",
    "df.loc[df['created_datetime']=='Super U','created_datetime']='NaN'\n",
    "df.loc[df['created_datetime']=='Super U,Leclerc,Carrefour','created_datetime']='NaN'\n",
    "\n",
    "# On convertit la colonne created_datetime au format date\n",
    "df[\"created_datetime\"] =  pd.to_datetime(df[\"created_datetime\"], format=\"%Y-%m-%dT%H:%M:%SZ\")"
   ]
  },
  {
   "cell_type": "code",
   "execution_count": null,
   "id": "ccc8db44",
   "metadata": {},
   "outputs": [],
   "source": [
    "# On supprime les erreurs\n",
    "df.loc[df['created_t']=='France','created_t']='NaN'\n",
    "df.loc[df['created_t']=='Villecresnes,Villeurbanne,France','created_t']='NaN'\n",
    "df.loc[df['created_t']=='Veynes,France','created_t']='NaN'\n",
    "df.loc[df['created_t']=='Saint-Priest,France','created_t']='NaN'\n",
    "df.loc[df['created_t']=='Torcy 77,France','created_t']='NaN'\n",
    "df.loc[df['created_t']=='Villers Bocage 80260,France','created_t']='NaN'\n",
    "df.loc[df['created_t']=='Montgermont','created_t']='NaN'\n",
    "df.loc[df['created_t']=='Marseille 5°,France','created_t']='NaN'\n",
    "df.loc[df['created_t']=='France,Nantes,Carquefou','created_t']='NaN'\n",
    "df.loc[df['created_t']=='Courrières,France','created_t']='NaN'\n",
    "df.loc[df['created_t']=='Brétigny-sur-Orge,Marseille 5°','created_t']='NaN'\n",
    "df.loc[df['created_t']=='Brétigny-sur-Orge,Marseille 5°,France','created_t']='NaN'\n",
    "df.loc[df['created_t']=='France','created_t']='NaN'\n",
    "\n",
    "# On convertit la colonne created_t au format date\n",
    "df['created_t'] = pd.to_datetime(df['created_t'],unit='s')"
   ]
  },
  {
   "cell_type": "code",
   "execution_count": null,
   "id": "37f9c5ef",
   "metadata": {},
   "outputs": [],
   "source": [
    "# On supprime les erreurs\n",
    "df.loc[df['last_modified_t']=='Belgique,France','last_modified_t']='NaN'\n",
    "df.loc[df['last_modified_t']=='France','last_modified_t']='NaN'\n",
    "df.loc[df['last_modified_t']=='Belgique,France, en:switzerland','last_modified_t']='NaN'\n",
    "df.loc[df['last_modified_t']=='Suisse,France','last_modified_t']='NaN'\n",
    "\n",
    "# On convertit la colonne last_modified_t au format date\n",
    "df['last_modified_t'] = pd.to_datetime(df['last_modified_t'],unit='s')"
   ]
  },
  {
   "cell_type": "code",
   "execution_count": null,
   "id": "2ffcda47",
   "metadata": {},
   "outputs": [],
   "source": [
    "# On supprime les erreurs de saisie\n",
    "# data.loc[data['montant']==-15000, 'montant'] = -14.39\n",
    "df.loc[df['last_modified_datetime']=='en:belgium,en:france','last_modified_datetime']='NaN'\n",
    "df.loc[df['last_modified_datetime']=='en:france','last_modified_datetime']='NaN'\n",
    "df.loc[df['last_modified_datetime']=='en:belgium,en:france,en:switzerland','last_modified_datetime']='NaN'\n",
    "df.loc[df['last_modified_datetime']=='en:france,en:switzerland','last_modified_datetime']='NaN'\n",
    "\n",
    "# On convertit la colonne last_modified_dattetime au format date\n",
    "df[\"last_modified_datetime\"] =  pd.to_datetime(df[\"last_modified_datetime\"], format=\"%Y-%m-%dT%H:%M:%SZ\")"
   ]
  },
  {
   "cell_type": "code",
   "execution_count": null,
   "id": "3243ac80",
   "metadata": {},
   "outputs": [],
   "source": [
    "df.head()"
   ]
  },
  {
   "cell_type": "code",
   "execution_count": null,
   "id": "ffc27e07",
   "metadata": {
    "scrolled": false
   },
   "outputs": [],
   "source": [
    "tools.get_types_variables(df,True,True,True)"
   ]
  },
  {
   "cell_type": "code",
   "execution_count": null,
   "id": "d272a844",
   "metadata": {},
   "outputs": [],
   "source": [
    "# # On crée des listes selon type\n",
    "# float_columns  = df.select_dtypes(include=['float64']).columns\n",
    "# object_columns = df.select_dtypes(include=['object']).columns\n",
    "# datetime_columns = df.select_dtypes(include=['datetime64[ns]']).columns"
   ]
  },
  {
   "cell_type": "code",
   "execution_count": null,
   "id": "2aa84a2b",
   "metadata": {},
   "outputs": [],
   "source": [
    "# On crée une fonction pour la suite\n",
    "def get_infos_df(df,types) :\n",
    "    '''mise à jours des valeurs float_columns et objects''' \n",
    "    float_columns  = df.select_dtypes(include=['float64']).columns\n",
    "    object_columns = df.select_dtypes(include=['object']).columns\n",
    "    datetime_columns = df.select_dtypes(include=['datetime64[ns]']).columns\n",
    "    print(\"--------------GENERAL----------------------------------\")\n",
    "    print(f\"taille df : {df.shape}\")\n",
    "    print(\"\")\n",
    "    if types:\n",
    "        print(\"--------------OBJECT----------------------------------\")\n",
    "        print(f\"Nombre de colonne du type Object : {df[object_columns].shape[1]}\")\n",
    "        print(\"---------->\")\n",
    "        print(f\"{object_columns.to_list()}\")\n",
    "        print(\"\")\n",
    "        print(\"--------------FLOAT-----------------------------------\")\n",
    "        print(f\"Nombre de colonne du type Float : {df[float_columns].shape[1]}\")\n",
    "        print(\"---------->\")\n",
    "        print(f\"{float_columns.to_list()}\")\n",
    "        print(\"\")\n",
    "        print(\"--------------datetime64[ns]-----------------------------------\")\n",
    "        print(f\"Nombre de colonne du type Float : {df[datetime_columns].shape[1]}\")\n",
    "        print(\"---------->\")\n",
    "        print(f\"{datetime_columns.to_list()}\")\n",
    "# On affiche les listes par type\n",
    "get_infos_df(df,types=True)"
   ]
  },
  {
   "cell_type": "markdown",
   "id": "5aa3ddae",
   "metadata": {},
   "source": [
    "### 2.2 Les NaN"
   ]
  },
  {
   "cell_type": "code",
   "execution_count": null,
   "id": "945364a0",
   "metadata": {
    "scrolled": false
   },
   "outputs": [],
   "source": [
    "tools.get_missing_value(df,True,True)"
   ]
  },
  {
   "cell_type": "markdown",
   "id": "d6637d20",
   "metadata": {},
   "source": [
    "#### On supprime les colonnes qui ne sont jamais utilisées"
   ]
  },
  {
   "cell_type": "code",
   "execution_count": null,
   "id": "27acd6e7",
   "metadata": {},
   "outputs": [],
   "source": [
    "liste_colonne_jamais_utilisees =  tools.get_null_factor(df,100)\n",
    "liste_colonne_jamais_utilisees"
   ]
  },
  {
   "cell_type": "markdown",
   "id": "7a215e28",
   "metadata": {},
   "source": [
    "- **Suppression de colonnes**"
   ]
  },
  {
   "cell_type": "code",
   "execution_count": null,
   "id": "25215cef",
   "metadata": {},
   "outputs": [],
   "source": [
    "# On supprime les variables jamais utilisées\n",
    "old_nb_col = df.shape[1]\n",
    "elem = liste_colonne_jamais_utilisees['Variables']\n",
    "df = df.drop(columns=liste_colonne_jamais_utilisees['Variables'],axis=1)\n",
    "print(f\"On a supprimé {old_nb_col - df.shape[1]} colonnes\")"
   ]
  },
  {
   "cell_type": "code",
   "execution_count": null,
   "id": "d05e42ba",
   "metadata": {},
   "outputs": [],
   "source": [
    "tools.get_missing_value(df,True,False)"
   ]
  },
  {
   "cell_type": "code",
   "execution_count": null,
   "id": "adb02f08",
   "metadata": {},
   "outputs": [],
   "source": [
    "get_infos_df(df,types=False)"
   ]
  },
  {
   "cell_type": "markdown",
   "id": "8830e99d",
   "metadata": {},
   "source": [
    "# 3.1 On explore les GENERAL INFORMATION"
   ]
  },
  {
   "cell_type": "code",
   "execution_count": null,
   "id": "dea14e8e",
   "metadata": {
    "scrolled": false
   },
   "outputs": [],
   "source": [
    "# On affiche la répartition des NaN \n",
    "# Les informations\n",
    "tools.graph_NAN(data,20,0,10,\"GENERAL INFORMATION : Répartition des NaN par colonne\")"
   ]
  },
  {
   "cell_type": "code",
   "execution_count": null,
   "id": "9c2f0749",
   "metadata": {},
   "outputs": [],
   "source": [
    "def info_list_colonnes(df,liste_col,_unique):\n",
    "    '''\n",
    "    Information sur les colonnes seeléctionnées\n",
    "    paramètres : \n",
    "    - df\n",
    "    - list_col : liste des colonne a considérer\n",
    "    '''\n",
    "    for i in liste_col:\n",
    "        \n",
    "        df_work = df[i]\n",
    "        print(\"________\")\n",
    "        print(f\"Colonne : {i}\")\n",
    "        print(f\"Nombre de valeurs uniques : {df_work.nunique()}\")\n",
    "        print(f\"Type de la variable       : {df[i].dtypes}\")\n",
    "        print(f\"NaN                       : {round(df_work.isnull().mean()*100,2)} %\")\n",
    "        if _unique:\n",
    "            print(f\"Valeurs unique            : {df[i].unique()}\")\n",
    "        print(\"\")\n"
   ]
  },
  {
   "cell_type": "code",
   "execution_count": null,
   "id": "d82a513d",
   "metadata": {},
   "outputs": [],
   "source": [
    "# List des colonnes information general\n",
    "liste_information_general = df.iloc[:,10:34].columns\n",
    "info_list_colonnes(df,liste_information_general,True)"
   ]
  },
  {
   "cell_type": "markdown",
   "id": "681150ae",
   "metadata": {},
   "source": [
    "#### Recherche des doublons (colonnes)"
   ]
  },
  {
   "cell_type": "code",
   "execution_count": null,
   "id": "a8a38254",
   "metadata": {},
   "outputs": [],
   "source": [
    "datetime_columns= df.select_dtypes(include=['datetime64[ns]']).columns\n",
    "datetime_columns.to_list()"
   ]
  },
  {
   "cell_type": "code",
   "execution_count": null,
   "id": "36c4beaf",
   "metadata": {},
   "outputs": [],
   "source": [
    "df['created_t'].equals(df['created_datetime'])"
   ]
  },
  {
   "cell_type": "code",
   "execution_count": null,
   "id": "766ca3a9",
   "metadata": {},
   "outputs": [],
   "source": [
    "df['last_modified_t'].equals(df['last_modified_datetime'])"
   ]
  },
  {
   "cell_type": "markdown",
   "id": "64f6449e",
   "metadata": {},
   "source": [
    "#### Recherche des doublons (lignes)"
   ]
  },
  {
   "cell_type": "code",
   "execution_count": null,
   "id": "80355ad2",
   "metadata": {},
   "outputs": [],
   "source": [
    "def search_doublons_col(df,col):\n",
    "    \"\"\"\n",
    "    affiche la liste des doublons de df\n",
    "    \"\"\"\n",
    "    liste_doublon = df[df.duplicated([col],keep=False)]\n",
    "    print(f\"Il y a : {liste_doublon.shape[0]} doublons dans les codes produits : Ils ont NaN en tant que code\")\n",
    "    liste_doublon"
   ]
  },
  {
   "cell_type": "code",
   "execution_count": null,
   "id": "8a44bed2",
   "metadata": {},
   "outputs": [],
   "source": [
    "def supp_doublons_col(df,col):\n",
    "    nb_ligne_avant = df.shape[0]\n",
    "    df = df.dropna(subset=['code'])\n",
    "    print(f\"Réduction du nombre de lignes : on passe de {nb_ligne_avant} à {df.shape[0]} lignes on a supprimmé {nb_ligne_avant - df.shape[0]} lignes\")"
   ]
  },
  {
   "cell_type": "code",
   "execution_count": null,
   "id": "d5f100d6",
   "metadata": {},
   "outputs": [],
   "source": [
    "# On compte les doublons dans les codes qui doivent être unique\n",
    "search_doublons_col(df,'code')"
   ]
  },
  {
   "cell_type": "markdown",
   "id": "ff0daf45",
   "metadata": {},
   "source": [
    "- **Suppression colonnes**"
   ]
  },
  {
   "cell_type": "code",
   "execution_count": null,
   "id": "7fd5d677",
   "metadata": {},
   "outputs": [],
   "source": [
    "supp_doublons_col(df,'code')"
   ]
  },
  {
   "cell_type": "markdown",
   "id": "ee342d05",
   "metadata": {},
   "source": [
    "### 3.1.1 Créateurs"
   ]
  },
  {
   "cell_type": "code",
   "execution_count": null,
   "id": "c9126967",
   "metadata": {},
   "outputs": [],
   "source": [
    "creators = df.groupby(by='creator')['code'].nunique().sort_values(ascending=False)"
   ]
  },
  {
   "cell_type": "code",
   "execution_count": null,
   "id": "5c1f350c",
   "metadata": {},
   "outputs": [],
   "source": [
    "def plot_contributor(n=5):\n",
    "    fig, ax = plt.subplots(figsize=(8, 8), subplot_kw=dict(aspect=\"equal\"))\n",
    "\n",
    "    explodes = np.zeros(n)\n",
    "    explodes[0] = .1\n",
    "\n",
    "    def pct_tot(pct):\n",
    "        tot = round(pct*creators[:n].sum(),0)\n",
    "        tot_pct = tot/creators.sum()\n",
    "        return \"{:.1f}%\\n({:.0f})\".format(tot_pct,(tot/100))\n",
    "\n",
    "    plt.pie(creators[:n], labels=creators[:n].index, \n",
    "            startangle=45, \n",
    "            shadow=True,\n",
    "            explode=explodes,\n",
    "            autopct=lambda pct: pct_tot(pct),\n",
    "            textprops=dict(color=\"black\",size=12, weight=\"bold\"))\n",
    "    plt.title(\"Les {:d} meilleurs contributeurs\".format(n), \n",
    "              fontweight='bold',fontsize=24)\n",
    "    plt.show()"
   ]
  },
  {
   "cell_type": "code",
   "execution_count": null,
   "id": "bab6d10c",
   "metadata": {},
   "outputs": [],
   "source": [
    "plot_contributor(n=5)"
   ]
  },
  {
   "cell_type": "markdown",
   "id": "c670369f",
   "metadata": {},
   "source": [
    "### 3.1.1 Les dates"
   ]
  },
  {
   "cell_type": "code",
   "execution_count": null,
   "id": "01baaf06",
   "metadata": {},
   "outputs": [],
   "source": [
    "# On visualise les variables date\n",
    "df[datetime_columns].head()"
   ]
  },
  {
   "cell_type": "code",
   "execution_count": null,
   "id": "b268012a",
   "metadata": {},
   "outputs": [],
   "source": [
    "plt.figure(figsize=(15, 15), dpi=100)  # taille\n",
    "\n",
    "plt.subplot(4, 2, 1)\n",
    "add_per_year = df[['created_t', 'code']].groupby(by=df['created_t'].dt.year).nunique()\n",
    "sns.set_style(\"whitegrid\")\n",
    "sns.barplot(data=add_per_year, x=add_per_year.index, y='code', color='#00afe6')\n",
    "plt.title(\"created_t : Evolution des créations de produits dans la base par année\",fontweight='bold')\n",
    "plt.xlabel(\"Année de création\")\n",
    "plt.ylabel(\"Nombre de créations\")\n",
    "\n",
    "plt.subplot(4, 2, 2)\n",
    "add_per_year = df[['created_datetime', 'code']].groupby(by=df['created_datetime'].dt.year).nunique()\n",
    "sns.set_style(\"whitegrid\")\n",
    "sns.barplot(data=add_per_year, x=add_per_year.index, y='code', color='#00afe6')\n",
    "plt.title(\"created_datetime : Evolution des créations de produits dans la base par année\",fontweight='bold')\n",
    "plt.xlabel(\"Année de création\")\n",
    "plt.ylabel(\"Nombre de créations\")\n",
    "\n",
    "plt.subplot(4, 2, 3)\n",
    "add_per_year = df[['last_modified_t', 'code']].groupby(by=df['last_modified_t'].dt.year).nunique()\n",
    "sns.set_style(\"whitegrid\")\n",
    "sns.barplot(data=add_per_year, x=add_per_year.index, y='code', color='#00afe6')\n",
    "plt.title(\"last_modified_t : Evolution des créations de produits dans la base par année\",fontweight='bold')\n",
    "plt.xlabel(\"Année de création\")\n",
    "plt.ylabel(\"Nombre de créations\")\n",
    "\n",
    "plt.subplot(4, 2, 4)\n",
    "add_per_year = df[['last_modified_datetime', 'code']].groupby(by=df['last_modified_datetime'].dt.year).nunique()\n",
    "sns.set_style(\"whitegrid\")\n",
    "sns.barplot(data=add_per_year, x=add_per_year.index, y='code', color='#00afe6')\n",
    "plt.title(\"last_modified_datetime : Evolution des créations de produits dans la base par année\",fontweight='bold')\n",
    "plt.xlabel(\"Année de création\")\n",
    "plt.ylabel(\"Nombre de créations\")\n",
    "plt.subplots_adjust(left=0.125, bottom=0.1, right=0.9, top=0.9, wspace=1, hspace=0.35)\n",
    "plt.show()"
   ]
  },
  {
   "cell_type": "markdown",
   "id": "73c891a3",
   "metadata": {},
   "source": [
    "Quelle que soit les valeurs faisant référence aux dates : on observe un augmentation significative dans les années 2015-2017 \n",
    "- created_t dispose d'information remontant à 1970 : il est possible que ce soit des erreurs de saisie nous pourrions les traiter quand nous verrons les outliers mais comme les nombres de variables sont similaire nous pensons garder les valeurs les plus à jours : **last_modified_datetime**\n",
    "- Explication des dates : \n",
    "    - Le Nutri-Score est prévu dans la loi de 2016 en France\n",
    "    - Mis en place en France en 2017, l'étiquetage nutritionnel Nutri-Score s'applique aujourd'hui dans sept pays"
   ]
  },
  {
   "cell_type": "markdown",
   "id": "97239b8b",
   "metadata": {},
   "source": [
    "### 3.1.3 Les produits"
   ]
  },
  {
   "cell_type": "code",
   "execution_count": null,
   "id": "03457b96",
   "metadata": {},
   "outputs": [],
   "source": [
    "# Les products name les plus présent\n",
    "effectifs = df[\"product_name\"].value_counts()\n",
    "modalites = effectifs.index # contient les modalités\n",
    "tab = pd.DataFrame(modalites, columns = [\"Product_name\"]) # création du tableau à partir des modalités\n",
    "tab[\"n\"] = effectifs.values\n",
    "tab = tab.sort_values(\"n\",ascending=False) # tri des valeurs de la variable X (croissant)\n"
   ]
  },
  {
   "cell_type": "code",
   "execution_count": null,
   "id": "c07b211f",
   "metadata": {},
   "outputs": [],
   "source": [
    "# On affiche les produits qui apparaissent le plus\n",
    "tab.head(10)"
   ]
  },
  {
   "cell_type": "markdown",
   "id": "d4c8b014",
   "metadata": {},
   "source": [
    "- Suppression des produits sans nom (product_name)"
   ]
  },
  {
   "cell_type": "code",
   "execution_count": null,
   "id": "e85befdd",
   "metadata": {},
   "outputs": [],
   "source": [
    "# Supprimer les produit qui n'ont pas de nom\n",
    "old_product_shape=df.shape[0]\n",
    "df = df[~(df['product_name'].isnull())]\n",
    "print(f\"On a supprimé {old_product_shape - df.shape[0]}  produits sans nom\")"
   ]
  },
  {
   "cell_type": "code",
   "execution_count": null,
   "id": "f2f415be",
   "metadata": {},
   "outputs": [],
   "source": [
    "df.shape"
   ]
  },
  {
   "cell_type": "markdown",
   "id": "9701bf5a",
   "metadata": {},
   "source": [
    "***\n",
    "- **Variables exclues** : \n",
    "    - code : barcode of the product (can be EAN-13 or internal codes for some food stores)\n",
    "    - url : url of the product page on Open Food Facts\n",
    "    - creator : contributor who first added the product (redontante avec last_modified_t )\n",
    "    - created_t : date that the product was added.sum() (UNIX timestamp format) (redontante avec last_modified_t )\n",
    "    - created_datetime : date that the product was added (iso8601 format: yyyy-mm-ddThh:mn:ssZ) \n",
    "    - last_modified_datetime (redontante avec last_modified_t)\n",
    "    - generic_name (84% de na)\n",
    "    - quantity : quantity and unit : 13826 unités et quantités différentes\n",
    "***\n",
    "- **Variables conservées** :\n",
    "    - **last_modified_t** : date that the product page was last modified (dernières valeurs)\n",
    "    - **product_name** : name of the product\n",
    "***"
   ]
  },
  {
   "cell_type": "code",
   "execution_count": null,
   "id": "968aa73b",
   "metadata": {},
   "outputs": [],
   "source": [
    "coll_gen = ['last_modified_t','product_name']"
   ]
  },
  {
   "cell_type": "markdown",
   "id": "c0eaa675",
   "metadata": {},
   "source": [
    "# 3.2 On explore les TAGS"
   ]
  },
  {
   "cell_type": "code",
   "execution_count": null,
   "id": "ca8bf6a4",
   "metadata": {},
   "outputs": [],
   "source": [
    "# On affiche les NaN des colonnes TAGS\n",
    "tools.graph_NAN(data,20,10,34,\"TAGS : Répartition des NaN par colonne\")"
   ]
  },
  {
   "cell_type": "code",
   "execution_count": null,
   "id": "88c4e8c6",
   "metadata": {
    "scrolled": true
   },
   "outputs": [],
   "source": [
    "liste_tags = df.iloc[:,10:34].columns\n",
    "info_list_colonnes(df,liste_tags,True)"
   ]
  },
  {
   "cell_type": "markdown",
   "id": "1d89c37a",
   "metadata": {},
   "source": [
    "### 3.2.1 Les categories"
   ]
  },
  {
   "cell_type": "code",
   "execution_count": null,
   "id": "e505501c",
   "metadata": {},
   "outputs": [],
   "source": [
    "category_columns = ['categories','categories_tags','categories_fr','main_category','main_category_fr']\n",
    "df[df[category_columns].notnull().any(axis=1)][ category_columns].sample(5)"
   ]
  },
  {
   "cell_type": "markdown",
   "id": "20ab2bf1",
   "metadata": {},
   "source": [
    "- **On ajoute main_category et main_category_fr**"
   ]
  },
  {
   "cell_type": "markdown",
   "id": "c036a7bb",
   "metadata": {},
   "source": [
    "### 3.2.2 Produits et Marques"
   ]
  },
  {
   "cell_type": "code",
   "execution_count": null,
   "id": "b0368816",
   "metadata": {},
   "outputs": [],
   "source": [
    "products_colums = ['product_name']\n",
    "df[df[category_columns].notnull().any(axis=1)][['product_name']].sample(5)"
   ]
  },
  {
   "cell_type": "code",
   "execution_count": null,
   "id": "da6017b1",
   "metadata": {},
   "outputs": [],
   "source": [
    "df_gen_dup = df.loc[df[coll_gen].duplicated(keep=False),:]"
   ]
  },
  {
   "cell_type": "code",
   "execution_count": null,
   "id": "2ce85623",
   "metadata": {},
   "outputs": [],
   "source": [
    "df_gen_dup[[\"product_name\",\"brands\"]].head(6)\n",
    "df_gen_dup.head()"
   ]
  },
  {
   "cell_type": "markdown",
   "id": "bc8ea6b5",
   "metadata": {},
   "source": [
    "- **Suppression de lignes**"
   ]
  },
  {
   "cell_type": "code",
   "execution_count": null,
   "id": "f95d4d59",
   "metadata": {},
   "outputs": [],
   "source": [
    "old_shape = df.shape[0]\n",
    "# On supprime les doublons des produits de la même marque en conservant les valeurs nulles\n",
    "df = df[(~df.duplicated([\"product_name\",\"brands\"],keep=\"last\")) | ((df['product_name'].isnull()) & (df['brands'].isnull()))]\n",
    "print(f\"On a supprimé : {old_shape - df.shape[0]} lignes en doublons\")"
   ]
  },
  {
   "cell_type": "code",
   "execution_count": null,
   "id": "0bbbd252",
   "metadata": {},
   "outputs": [],
   "source": [
    "df.shape"
   ]
  },
  {
   "cell_type": "markdown",
   "id": "96ad9e17",
   "metadata": {},
   "source": [
    "### 3.2.3 Les Pays"
   ]
  },
  {
   "cell_type": "code",
   "execution_count": null,
   "id": "7052cb1b",
   "metadata": {},
   "outputs": [],
   "source": [
    "# On compare les colonnes qui enregistrent les pays\n",
    "countries_columns = ['countries','countries_tags','countries_fr']\n",
    "df[df[category_columns].notnull().any(axis=1)][ countries_columns].sample(5)"
   ]
  },
  {
   "cell_type": "code",
   "execution_count": null,
   "id": "49710f39",
   "metadata": {},
   "outputs": [],
   "source": [
    "# On comptes le nombre de pays selon les colonnes\n",
    "print(f\"countries : nombre de pays : {df['countries'].nunique()}\")\n",
    "print(f\"countries_tags : nombre de pays : {df['countries_tags'].nunique()}\")\n",
    "print(f\"countries_fr : nombre de pays : {df['countries_fr'].nunique()}\")"
   ]
  },
  {
   "cell_type": "code",
   "execution_count": null,
   "id": "82255c6e",
   "metadata": {},
   "outputs": [],
   "source": [
    "countries_fr = df.groupby(by=\"countries_fr\").nunique()\n",
    "countries_fr[['code']].head()"
   ]
  },
  {
   "cell_type": "code",
   "execution_count": null,
   "id": "58ac101b",
   "metadata": {},
   "outputs": [],
   "source": [
    "countries = df.groupby(by=\"countries\").nunique()\n",
    "countries[['code']].head()"
   ]
  },
  {
   "cell_type": "markdown",
   "id": "09373dc2",
   "metadata": {},
   "source": [
    "- **On choisit countries_fr pour ses valeurs en Français**"
   ]
  },
  {
   "cell_type": "code",
   "execution_count": null,
   "id": "6620952f",
   "metadata": {},
   "outputs": [],
   "source": [
    "# tableau des effectifs\n",
    "def tab_effectifs(df,col):\n",
    "    effectifs = df[col].value_counts()\n",
    "    modalites = effectifs.index # contient les modalités\n",
    "    tab = pd.DataFrame(modalites, columns = [col]) # création du tableau à partir des modalités\n",
    "    tab[\"n\"] = effectifs.values\n",
    "    tab = tab.sort_values(\"n\",ascending=False) # tri des valeurs de la variable X (croissant)\n",
    "    return tab"
   ]
  },
  {
   "cell_type": "code",
   "execution_count": null,
   "id": "50af6b29",
   "metadata": {},
   "outputs": [],
   "source": [
    "tab_effectifs(df,'countries_fr')"
   ]
  },
  {
   "cell_type": "code",
   "execution_count": null,
   "id": "4bd5bbce",
   "metadata": {},
   "outputs": [],
   "source": [
    "# Dans les cas de plusieurs pays dans une cellule on conserve le premier\n",
    "df['countries_fr'] = df['countries_fr'].str.split(',', n=1, expand=True)[0]"
   ]
  },
  {
   "cell_type": "code",
   "execution_count": null,
   "id": "f2a5ae43",
   "metadata": {},
   "outputs": [],
   "source": [
    "# on visualise\n",
    "tab_effectifs(df,'countries_fr')"
   ]
  },
  {
   "cell_type": "markdown",
   "id": "b069fae4",
   "metadata": {},
   "source": [
    "- On gère les pays en langues etrangères, zones..;\n",
    "    #### On charge la listes des pays officiel pour supprimer les pays non conformes à la liste des pays du ministère des affaire étrangères francais"
   ]
  },
  {
   "cell_type": "code",
   "execution_count": null,
   "id": "7dee40f2",
   "metadata": {},
   "outputs": [],
   "source": [
    "# chargement des données complémentaire\n",
    "df_countries = pd.read_csv(\"assets/datas/liste-197-etats-2020.csv\",sep=\";\")\n",
    "# visualisation du dataframe\n",
    "df_countries.head()"
   ]
  },
  {
   "cell_type": "code",
   "execution_count": null,
   "id": "0643d66a",
   "metadata": {},
   "outputs": [],
   "source": [
    "# On définit les pays valides\n",
    "VALID_COUNTRIES = df_countries['NOM'].unique()\n",
    "# On applique un mask pour écarter les pays qui ne sont pas valides\n",
    "mask = ~df['countries_fr'].isin(VALID_COUNTRIES)\n",
    "df.loc[mask, 'countries_fr'] = np.NaN"
   ]
  },
  {
   "cell_type": "code",
   "execution_count": null,
   "id": "0eb07dca",
   "metadata": {
    "scrolled": true
   },
   "outputs": [],
   "source": [
    "# On affiche la liste des pays nettoyée\n",
    "tab_effectifs(df,'countries_fr')"
   ]
  },
  {
   "cell_type": "code",
   "execution_count": null,
   "id": "ef7f4d7c",
   "metadata": {},
   "outputs": [],
   "source": [
    "country = df.groupby(by='countries_fr')['code'].nunique().sort_values(ascending=False)\n",
    "def plot_contributor_country(n=5):\n",
    "    fig, ax = plt.subplots(figsize=(6, 6), subplot_kw=dict(aspect=\"equal\"))\n",
    "\n",
    "    explodes = np.zeros(n)\n",
    "    explodes[0] = .1\n",
    "\n",
    "    plt.pie(country[:n], labels=country[:n].index, \n",
    "            startangle=45, \n",
    "            textprops=dict(color=\"black\",size=12, weight=\"bold\"))\n",
    "    plt.title(\"Les {:d} pays les plus représentés\".format(n), fontweight='bold',fontsize=24)\n",
    "    plt.show()"
   ]
  },
  {
   "cell_type": "code",
   "execution_count": null,
   "id": "b25bda88",
   "metadata": {},
   "outputs": [],
   "source": [
    "plot_contributor_country(10)"
   ]
  },
  {
   "cell_type": "markdown",
   "id": "25d07e33",
   "metadata": {},
   "source": [
    "#### Bilan"
   ]
  },
  {
   "cell_type": "markdown",
   "id": "dc53e03b",
   "metadata": {},
   "source": [
    "***\n",
    "- **Variables écartées en raison du nombre de valeurs manquantes ou inutile pour notre application** \n",
    "    - packaging : shape, material : matériaux utilisé pour l'emballage \n",
    "    - packaging_tags              : derscription de l'emballage\n",
    "    - brands_tags                 : précision sur la marque\n",
    "    - categories_tags             : précision sur les catégories en anglais\n",
    "    - origins                     : origins of ingredients\n",
    "    - origins_tags                : précision sur les origines des produits\n",
    "    - manufacturing_places        : places where manufactured or transformed\n",
    "    - manufacturing_places_tags   : précision sur les lieu de fabrication des produits\n",
    "    - labels_tags                 : précision sur les labels\n",
    "    - labels_fr                   : variable redondante avec labels\n",
    "    - emb_codes                   : code lieu de fabrication\n",
    "    - emb_codes_tags              : emb_codes en Majuscule \n",
    "    - first_packaging_code_geo    : coordonnées du premier lieu d'emballage \n",
    "    - cities                      : inutile 4 valeurs b,c,a \n",
    "    - cities_tags                 : ville\n",
    "    - purchase_places             : Lieu de vente\n",
    "    - stores                      : enseigne qui vend le produit                   \n",
    "    - countries_tags              : précision sur les countries\n",
    "    - labels                      :  peut nous donner des information important concernant l'idée d'app\n",
    "    - categories                  : catégorie de produit\n",
    "    - countries     : list de pays ou le produit est vendu\n",
    "***\n",
    "- **Variables conservées**\n",
    "    - **countries_fr**            : pays\n",
    "    - **brands**                  : marque du produit (meilleure syntaxe)\n",
    "    - categories_fr               : catégorie des produits  : variable redondante avec categories\n",
    "\n",
    "***"
   ]
  },
  {
   "cell_type": "code",
   "execution_count": null,
   "id": "37a59326",
   "metadata": {},
   "outputs": [],
   "source": [
    "# Colonne sélectionnées\n",
    "col_tags = ['countries_fr','brands']"
   ]
  },
  {
   "cell_type": "markdown",
   "id": "4aa585f6",
   "metadata": {},
   "source": [
    "# 3.3 On explore les INGREDIENTS"
   ]
  },
  {
   "cell_type": "code",
   "execution_count": null,
   "id": "57c7d4c6",
   "metadata": {},
   "outputs": [],
   "source": [
    "tools.graph_NAN(data,32,34,63,\"INGREDIENTS : Répartition des NaN par colonne\")"
   ]
  },
  {
   "cell_type": "code",
   "execution_count": null,
   "id": "1cec8852",
   "metadata": {},
   "outputs": [],
   "source": [
    "liste_ingredients = df.iloc[:,34:59].columns\n",
    "info_list_colonnes(df,liste_ingredients,True)"
   ]
  },
  {
   "cell_type": "markdown",
   "id": "a68413b7",
   "metadata": {},
   "source": [
    "## 3.3.1 On identifie la variable qui représente le mieux les catégories"
   ]
  },
  {
   "cell_type": "code",
   "execution_count": null,
   "id": "a75f54c8",
   "metadata": {},
   "outputs": [],
   "source": []
  },
  {
   "cell_type": "code",
   "execution_count": null,
   "id": "210915b7",
   "metadata": {},
   "outputs": [],
   "source": [
    "list_categorie = ['categories_fr','categories','main_category','main_category_fr','pnns_groups_1','pnns_groups_2']\n",
    "# On identifie la variable qui représente le mieux les catégories\n",
    "df[list_categorie].sample(5)"
   ]
  },
  {
   "cell_type": "code",
   "execution_count": null,
   "id": "caced0b2",
   "metadata": {},
   "outputs": [],
   "source": [
    "msno.bar(df[list_categorie])"
   ]
  },
  {
   "cell_type": "markdown",
   "id": "b32fc46b",
   "metadata": {},
   "source": [
    "***\n",
    "- **Variables écartées en raison du nombre de valeurs manquantes ou inutiles pour notre application**  \n",
    "    \n",
    "    - allergens                                    : trace de produits qui peuvent être présents \n",
    "    - allergens_fr                                 : lien vers une image\n",
    "    - traces                                       : trace de produits qui peuvent être présents \n",
    "    - traces_tags                                  : trace de produits qui peuvent être présents avec mention en:\n",
    "    - traces_fr                                    : trace de produits qui peuvent être présents en français\n",
    "    - serving_size                                 : recommandation US de la quantité de produit a consommer\n",
    "    - additives                                    : nom des additifs natutels ou chimiques\n",
    "    - additives_n                                  : nombre d'additif pour preserver couleurs, conservateurs, goûts...\n",
    "    - additives_tags                               : numéro de l'additif\n",
    "    - ingredients_from_palm_oil_n                  : nombre d'ingrédient venant d'huile de palm\n",
    "    - ingredients_from_palm_oil_tags               : type de transformation ou d'élément provenant d'huile de palme \n",
    "    - ingredients_that_may_be_from_palm_oil_n      : nombre d'élément privenant de l'huile de palme\n",
    "    - ingredients_that_may_be_from_palm_oil_tags   : type de transformation ou d'élément provenant d'huile de palme\n",
    "    - states                                       : etat de l'avancé de la base de données et de ses valeurs\n",
    "    - states_tags                                  : quasi copy de states\n",
    "    - states_fr                                    : states en français\n",
    "    - main_category                                : catégories de produits\n",
    "    - image_url                                    : url => image du produit grand format 400\n",
    "    - image_small_url                              : url => image du produit de petit format 200\n",
    "    - pnns_groups_1                                : groupe de classement (pourra permettre de rechercher les produits).\n",
    "    - pnns_groups_2                                : sous-groupe de classement du produit \n",
    "***\n",
    "- **Variables conservées**\n",
    "    - **ingredients_text**                             : Composition produit\n",
    "    - **additives_fr**                                 : Nom et numéro de l'additif en français\n",
    "    - **nutrition_grade_fr**                           : Score fr compris entre ('nan 'd' 'b' 'c' 'a' 'e')\n",
    "    - **main_category_fr**                             : catégories de produits en français\n",
    "    - **categories_fr**                                : catégorie des produits\n",
    "    "
   ]
  },
  {
   "cell_type": "code",
   "execution_count": null,
   "id": "833a36fa",
   "metadata": {},
   "outputs": [],
   "source": [
    "col_ingredients = ['ingredients_text','additives','nutrition_grade_fr','main_category_fr','categories_fr']"
   ]
  },
  {
   "cell_type": "markdown",
   "id": "cf1f7308",
   "metadata": {},
   "source": [
    "# On explore les NUTRITION FACTS"
   ]
  },
  {
   "cell_type": "code",
   "execution_count": null,
   "id": "88d5204c",
   "metadata": {},
   "outputs": [],
   "source": [
    "tools.graph_NAN(data,False,63,165,\"NUTRITION FACTS : Répartition des NaN par colonne ayant suffixe _100g\")"
   ]
  },
  {
   "cell_type": "code",
   "execution_count": null,
   "id": "a8625f25",
   "metadata": {},
   "outputs": [],
   "source": [
    "liste_nutrition_facts = df.iloc[:,59:165].columns\n",
    "liste_nutrition_facts"
   ]
  },
  {
   "cell_type": "code",
   "execution_count": null,
   "id": "ceda2388",
   "metadata": {},
   "outputs": [],
   "source": [
    "# Sélection des variabnle necéssaire pour l'application\n",
    "col_nutrition_facts = ['energy_100g', 'fat_100g', 'saturated-fat_100g','monounsaturated-fat_100g', 'polyunsaturated-fat_100g',\n",
    "                       'sugars_100g','fiber_100g', 'proteins_100g',\n",
    "                       'salt_100g', 'sodium_100g','potassium_100g','calcium_100g', 'iron_100g',\n",
    "                       'nutrition-score-fr_100g','nutrition-score-uk_100g']"
   ]
  },
  {
   "cell_type": "code",
   "execution_count": null,
   "id": "c210e6ae",
   "metadata": {
    "scrolled": false
   },
   "outputs": [],
   "source": [
    "msno.bar(df[col_nutrition_facts])"
   ]
  },
  {
   "cell_type": "code",
   "execution_count": null,
   "id": "a111226b",
   "metadata": {},
   "outputs": [],
   "source": [
    "df[['nutrition-score-fr_100g','nutrition-score-uk_100g']].head()"
   ]
  },
  {
   "cell_type": "code",
   "execution_count": null,
   "id": "fdb3330d",
   "metadata": {},
   "outputs": [],
   "source": [
    "df['nutrition-score-fr_100g'].equals(df['nutrition-score-fr_100g'])"
   ]
  },
  {
   "cell_type": "code",
   "execution_count": null,
   "id": "16968c5d",
   "metadata": {},
   "outputs": [],
   "source": [
    "# Sélection des variabnle necéssaire pour l'application\n",
    "col_nutrition_facts = ['energy_100g', 'fat_100g', 'saturated-fat_100g','monounsaturated-fat_100g', 'polyunsaturated-fat_100g',\n",
    "                       'sugars_100g','fiber_100g', 'proteins_100g',\n",
    "                       'salt_100g', 'sodium_100g','potassium_100g','calcium_100g', 'iron_100g',\n",
    "                       'nutrition-score-fr_100g']"
   ]
  },
  {
   "cell_type": "markdown",
   "id": "72657923",
   "metadata": {},
   "source": [
    "    \n",
    "#### Idée d'application \n",
    "***\n",
    "- **L'idée de l'application** : Aider les personnes en situation d'insuffisance rénale à être informer sur les produits à surveiller.\n",
    "***\n",
    "**PREMIERE SELECTION**\n",
    "***\n",
    "- **INFORMATION GENERAL** \n",
    "    - Variable conservées\n",
    "        - countries : list de pays ou le produit est vendu\n",
    "        - Brands : marque du produit\n",
    "        - categories\n",
    "        - labels : peu nous donner des information important concernant l'idée d'app\n",
    "***\n",
    "- **TAGS**   \n",
    "    - Variable conservées\n",
    "        - last_modified_t : date that the product page was last modified (dernières valeurs)\n",
    "        - product_name : name of the product\n",
    "***\n",
    "- **INGREDIENTS**\n",
    "    - Variable conservées\n",
    "        - ingredients_text                             : Composition produit\n",
    "        - additives                                    : nom des additifs natutels ou chimiques\n",
    "        - nutrition_grade_fr                           : Score fr compris entre ('nan 'd' 'b' 'c' 'a' 'e')\n",
    "        - pnns_groups_1                                : groupe de classement (pourra permettre de rechercher les produits).\n",
    "        - pnns_groups_2                                : sous-groupe de classement du produit \n",
    "***\n",
    "- **Nutrition facts**\n",
    "    - Variable conservées\n",
    "        - energy_100g \n",
    "        - fat_100g \n",
    "        - saturated-fat_100g\n",
    "        - monounsaturated-fat_100g \n",
    "        - polyunsaturated-fat_100g                \n",
    "        - sugars_100g\n",
    "        - fiber_100g \n",
    "        - proteins_100g                      \n",
    "        - salt_100g \n",
    "        - sodium_100g\n",
    "        - potassium_100g\n",
    "        - calcium_100g \n",
    "        - iron_100g\n",
    "        - nutrition-score-fr_100g"
   ]
  },
  {
   "cell_type": "code",
   "execution_count": null,
   "id": "f1680d5a",
   "metadata": {},
   "outputs": [],
   "source": [
    "col_a_garder = coll_gen+col_tags+col_ingredients+col_nutrition_facts\n",
    "df_app = df[col_a_garder]\n",
    "df_app.head()"
   ]
  },
  {
   "cell_type": "code",
   "execution_count": null,
   "id": "7cc90c9f",
   "metadata": {},
   "outputs": [],
   "source": [
    "df_app.shape"
   ]
  },
  {
   "cell_type": "code",
   "execution_count": null,
   "id": "42c084c6",
   "metadata": {},
   "outputs": [],
   "source": [
    "float_columns_app  = df_app.select_dtypes(include=['float64']).columns\n",
    "object_columns_app = df_app.select_dtypes(include=['object']).columns\n",
    "datetime_columns_app = df_app.select_dtypes(include=['datetime64[ns]']).columns"
   ]
  },
  {
   "cell_type": "code",
   "execution_count": null,
   "id": "b79cb038",
   "metadata": {},
   "outputs": [],
   "source": [
    "get_infos_df(df_app,types=True)"
   ]
  },
  {
   "cell_type": "markdown",
   "id": "741350d9",
   "metadata": {},
   "source": [
    "<a href='#sommaire'>\n",
    "    <img src=\"assets/img/menu.jpg\" />\n",
    "</a>"
   ]
  },
  {
   "cell_type": "markdown",
   "id": "4c774b76",
   "metadata": {},
   "source": [
    "# 4. Nettoyage du jeu de données pour notre application"
   ]
  },
  {
   "cell_type": "code",
   "execution_count": null,
   "id": "e7183017",
   "metadata": {},
   "outputs": [],
   "source": [
    "tools.get_missing_value(df_app,True,False)"
   ]
  },
  {
   "cell_type": "code",
   "execution_count": null,
   "id": "aab1f5fe",
   "metadata": {},
   "outputs": [],
   "source": [
    "\n",
    "# Répartition du pourcentage de valeurs manquantes pour toutes les variables provisoirement conservées\n",
    "plt.figure(figsize=(40, 15))\n",
    "df_app_nan = round((df_app.isna().sum()/df_app.shape[0])*100, 2)\n",
    "df_app_nan.sort_values(inplace=True)\n",
    "df_app_nan.plot(kind='bar', color='SteelBlue')\n",
    "plt.title('Répartition du pourcentage de valeurs manquantes par variables provisoirement conservées', fontsize=35)\n",
    "plt.ylabel('% Nan', fontsize=30)\n",
    "plt.axhline(y=80, color='r')\n",
    "plt.text(2, 82, '>80% nan - A supprimer', color='r', fontsize=30)\n",
    "plt.show()"
   ]
  },
  {
   "cell_type": "code",
   "execution_count": null,
   "id": "0f88aece",
   "metadata": {},
   "outputs": [],
   "source": [
    "df_app = tools.suppression_variable_seuil_taux_nan(df_app,80)"
   ]
  },
  {
   "cell_type": "code",
   "execution_count": null,
   "id": "0c49187a",
   "metadata": {},
   "outputs": [],
   "source": [
    "tools.get_missing_value(df_app,True,False)"
   ]
  },
  {
   "cell_type": "code",
   "execution_count": null,
   "id": "28eced8c",
   "metadata": {},
   "outputs": [],
   "source": []
  },
  {
   "cell_type": "code",
   "execution_count": null,
   "id": "4942abf5",
   "metadata": {},
   "outputs": [],
   "source": []
  },
  {
   "cell_type": "code",
   "execution_count": null,
   "id": "18bffef4",
   "metadata": {},
   "outputs": [],
   "source": []
  },
  {
   "cell_type": "code",
   "execution_count": null,
   "id": "ab0439c8",
   "metadata": {},
   "outputs": [],
   "source": []
  },
  {
   "cell_type": "code",
   "execution_count": null,
   "id": "eb2a5e05",
   "metadata": {},
   "outputs": [],
   "source": []
  },
  {
   "cell_type": "code",
   "execution_count": null,
   "id": "dbe6d796",
   "metadata": {},
   "outputs": [],
   "source": []
  },
  {
   "cell_type": "markdown",
   "id": "65cc4bea",
   "metadata": {},
   "source": [
    "#### last_modified_t :\n",
    "ne contient aucune information viable ni moyen de rechercher le produit concerné et la colonne Product_name est mal reinseignée ==> on supprime"
   ]
  },
  {
   "cell_type": "code",
   "execution_count": null,
   "id": "e4cb03dc",
   "metadata": {},
   "outputs": [],
   "source": [
    "df_app.loc[df_app['last_modified_t'].isnull(),:]"
   ]
  },
  {
   "cell_type": "code",
   "execution_count": null,
   "id": "83df0fd5",
   "metadata": {},
   "outputs": [],
   "source": [
    "# On supprime et contrôle\n",
    "old_shape = df_app.shape[0]\n",
    "# On supprime du df\n",
    "df_app = df_app.dropna(subset=['last_modified_t'])\n",
    "print(f\"suppression : {old_shape - df_app.shape[0]} lignes\")"
   ]
  },
  {
   "cell_type": "code",
   "execution_count": null,
   "id": "ffdd669a",
   "metadata": {},
   "outputs": [],
   "source": [
    "tools.get_missing_value(df_app,False,False)"
   ]
  },
  {
   "cell_type": "code",
   "execution_count": null,
   "id": "85ae52f1",
   "metadata": {},
   "outputs": [],
   "source": [
    "def search_nan_col(df_app,col):\n",
    "    df_nan = df_app.loc[df_app[col].isnull(),:]\n",
    "    return df_nan.sample(5)"
   ]
  },
  {
   "cell_type": "code",
   "execution_count": null,
   "id": "8c188ea1",
   "metadata": {},
   "outputs": [],
   "source": [
    "search_nan_col(df_app,'categories_fr')"
   ]
  },
  {
   "cell_type": "markdown",
   "id": "0165529d",
   "metadata": {},
   "source": [
    "#### Les Categories : \n",
    "- Pour pouvoir faire des analyse on a besoin : \n",
    "    - une categorie complete\n",
    "        - On crée un df : df_categ avec les produit qui ont au moins un element categorie completé\n",
    "    - les variables quantitatives complétées de manière non arbitraire\n",
    "        - les categorie permettraient de mieux estimer les nan quantitatif"
   ]
  },
  {
   "cell_type": "code",
   "execution_count": null,
   "id": "dbfea9f5",
   "metadata": {},
   "outputs": [],
   "source": [
    "df_categ = df_app.copy()\n",
    "df_categ['categories_fr'].fillna('inconnu',inplace=True)\n",
    "df_categ['main_category_fr'].fillna('inconnu',inplace=True)"
   ]
  },
  {
   "cell_type": "code",
   "execution_count": null,
   "id": "46f55a55",
   "metadata": {},
   "outputs": [],
   "source": []
  },
  {
   "cell_type": "code",
   "execution_count": null,
   "id": "3bcd585e",
   "metadata": {},
   "outputs": [],
   "source": [
    "# On ne conserve que les lignes pour lesquelles une variable catégorie est connu\n",
    "df_categ = df_categ[~(((df_categ['categories_fr'] == 'inconnu') | (df_categ['main_category_fr'] == 'inconnu')))]\n",
    "df_categ.shape"
   ]
  },
  {
   "cell_type": "code",
   "execution_count": null,
   "id": "910a619d",
   "metadata": {},
   "outputs": [],
   "source": [
    "print(f\"On ne supprime pas les produits sans catégories car on perdrait {100-round(df_categ.shape[0]/df_app.shape[0],2)*100}% du dataframe d'origine. On garde les 2 df\")"
   ]
  },
  {
   "cell_type": "markdown",
   "id": "ab1dd067",
   "metadata": {},
   "source": [
    "#### COUNTRY\n",
    "- ***441 valeurs ==> brands| pays :*** on cherche la nationalité de l'entreprise et on fait un dictionnaire"
   ]
  },
  {
   "cell_type": "code",
   "execution_count": null,
   "id": "a70464c4",
   "metadata": {},
   "outputs": [],
   "source": [
    "search_nan_col(df_app,'countries_fr')"
   ]
  },
  {
   "cell_type": "markdown",
   "id": "9d13aebc",
   "metadata": {},
   "source": [
    "- **Peut-on utiliser le nom de l'entreprise ('brands') pour remplir le champs 'country_fr' ?**"
   ]
  },
  {
   "cell_type": "code",
   "execution_count": null,
   "id": "0a54c204",
   "metadata": {},
   "outputs": [],
   "source": [
    "entreprises = ['Danone']\n",
    "# selecting rows based on condition\n",
    "res_df = df_categ.loc[df_categ['brands'].isin(entreprises)]\n",
    "res_df"
   ]
  },
  {
   "cell_type": "markdown",
   "id": "945ef786",
   "metadata": {},
   "source": [
    " - **On ne peut pas remplir le pays en fonction de la marque** car la même marque peut être associée à plusieurs pays différents\n",
    "## VOIR SI KMEANS OU KNN PEUT ËTRE UTILISE\n",
    " - on remplace les pays inconnus par la valeur monde pour représenter au mieux la variable et ne pas la supprimer"
   ]
  },
  {
   "cell_type": "code",
   "execution_count": null,
   "id": "a4d2f6a1",
   "metadata": {},
   "outputs": [],
   "source": [
    "df_categ['countries_fr'].fillna('monde',inplace=True)"
   ]
  },
  {
   "cell_type": "code",
   "execution_count": null,
   "id": "952b307a",
   "metadata": {},
   "outputs": [],
   "source": []
  },
  {
   "cell_type": "code",
   "execution_count": null,
   "id": "37348c83",
   "metadata": {},
   "outputs": [],
   "source": []
  },
  {
   "cell_type": "code",
   "execution_count": null,
   "id": "fe2b4ad4",
   "metadata": {},
   "outputs": [],
   "source": []
  },
  {
   "cell_type": "code",
   "execution_count": null,
   "id": "c6e876d3",
   "metadata": {},
   "outputs": [],
   "source": []
  },
  {
   "cell_type": "code",
   "execution_count": null,
   "id": "84392ff6",
   "metadata": {},
   "outputs": [],
   "source": []
  },
  {
   "cell_type": "code",
   "execution_count": null,
   "id": "7382c04f",
   "metadata": {},
   "outputs": [],
   "source": [
    "tools.get_missing_value(df_categ,True,False)"
   ]
  },
  {
   "cell_type": "code",
   "execution_count": null,
   "id": "e7132531",
   "metadata": {},
   "outputs": [],
   "source": [
    "tools.get_missing_value(df_app,True,False)"
   ]
  },
  {
   "cell_type": "markdown",
   "id": "73a53ca0",
   "metadata": {},
   "source": [
    "- **Les variables qui étaient catégorielles et NaN ne sont pas modifiée seont complétés par la communauté**\n",
    "- **ce sont quantitatives qui doivent être complétés pour pouvoir être analysées**"
   ]
  },
  {
   "cell_type": "markdown",
   "id": "fefdcce8",
   "metadata": {},
   "source": [
    "## 4. Les valeurs aberrantes"
   ]
  },
  {
   "cell_type": "code",
   "execution_count": null,
   "id": "e7c049d1",
   "metadata": {},
   "outputs": [],
   "source": [
    "tools.get_description_variables(df_categ,type_var='categ')"
   ]
  },
  {
   "cell_type": "markdown",
   "id": "13331a3b",
   "metadata": {},
   "source": [
    "- Le valeurs categorielles parraissent cohérentes"
   ]
  },
  {
   "cell_type": "code",
   "execution_count": null,
   "id": "e57e65a8",
   "metadata": {},
   "outputs": [],
   "source": [
    "tools.get_description_variables(df_categ,type_var='num')"
   ]
  },
  {
   "cell_type": "code",
   "execution_count": null,
   "id": "f41afc63",
   "metadata": {},
   "outputs": [],
   "source": [
    "g_per_100g_col = ['fat_100g', 'saturated-fat_100g','monounsaturated-fat_100g', \n",
    "                        'polyunsaturated-fat_100g', 'sugars_100g',\n",
    "                        'fiber_100g', 'proteins_100g', 'salt_100g', 'sodium_100g',\n",
    "                        'potassium_100g', 'calcium_100g', 'iron_100g']\n"
   ]
  },
  {
   "cell_type": "code",
   "execution_count": null,
   "id": "34f8f4a0",
   "metadata": {},
   "outputs": [],
   "source": [
    "tools.get_description_variables(df_app[g_per_100g_col],type_var='num')"
   ]
  },
  {
   "cell_type": "code",
   "execution_count": null,
   "id": "4b466f8f",
   "metadata": {},
   "outputs": [],
   "source": [
    "df_supp_100 = "
   ]
  },
  {
   "cell_type": "code",
   "execution_count": null,
   "id": "5b2734d0",
   "metadata": {},
   "outputs": [],
   "source": []
  },
  {
   "cell_type": "code",
   "execution_count": null,
   "id": "6c543ec0",
   "metadata": {},
   "outputs": [],
   "source": []
  },
  {
   "cell_type": "markdown",
   "id": "04b7f331",
   "metadata": {},
   "source": [
    "- Données abérantes à corriger\n",
    "    - max : \n",
    "        - energy_100g (particulier)\n",
    "        - tous ceux > 100g pour 100g\n",
    "            - fat_100g\n",
    "            - saturated-fat_100g\n",
    "            - salt_100g\n",
    "            - sugars_100g\n",
    "            - ...\n",
    "    - min : valeur négative \n",
    "        - sugar_100g\n",
    "        - fider_100g\n",
    "        - protein_100g"
   ]
  },
  {
   "cell_type": "markdown",
   "id": "43cfb21f",
   "metadata": {},
   "source": [
    "# ENERGY"
   ]
  },
  {
   "cell_type": "code",
   "execution_count": null,
   "id": "88bb65df",
   "metadata": {},
   "outputs": [],
   "source": [
    "df_app[df_app['energy_100g'] == df_app['energy_100g'].max()]"
   ]
  },
  {
   "cell_type": "markdown",
   "id": "01e51e63",
   "metadata": {},
   "source": [
    "- les champs qui se terminent par _100g correspondent à la quantité d'un nutriment (en g, ou en kJ pour l'énergie) pour 100 g ou 100 ml de produit"
   ]
  },
  {
   "cell_type": "code",
   "execution_count": null,
   "id": "cf124389",
   "metadata": {},
   "outputs": [],
   "source": [
    "df_error_max = df_app.loc[df_app['energy_100g']>15000]"
   ]
  },
  {
   "cell_type": "code",
   "execution_count": null,
   "id": "6ff6b9bf",
   "metadata": {},
   "outputs": [],
   "source": [
    "df_error_max.shape"
   ]
  },
  {
   "cell_type": "code",
   "execution_count": null,
   "id": "4285c2a7",
   "metadata": {
    "scrolled": true
   },
   "outputs": [],
   "source": [
    "df_error_max.head().sort_values(by=\"energy_100g\",ascending=False)"
   ]
  },
  {
   "cell_type": "code",
   "execution_count": null,
   "id": "21587b01",
   "metadata": {},
   "outputs": [],
   "source": []
  },
  {
   "cell_type": "code",
   "execution_count": null,
   "id": "28c3ed06",
   "metadata": {},
   "outputs": [],
   "source": []
  },
  {
   "cell_type": "markdown",
   "id": "030bc0e6",
   "metadata": {},
   "source": [
    "# MIN"
   ]
  },
  {
   "cell_type": "code",
   "execution_count": null,
   "id": "89b3c3b4",
   "metadata": {},
   "outputs": [],
   "source": [
    "df_app[df_app['proteins_100g'] == df_app['proteins_100g'].min()]"
   ]
  },
  {
   "cell_type": "markdown",
   "id": "785b425e",
   "metadata": {},
   "source": [
    "https://www.gourmetgarden.com/en-us/products/lightly-dried/cilantro"
   ]
  },
  {
   "cell_type": "code",
   "execution_count": null,
   "id": "a54c3d43",
   "metadata": {},
   "outputs": [],
   "source": [
    "df_error_min = df_app.loc[df_app['proteins_100g']<0]"
   ]
  },
  {
   "cell_type": "code",
   "execution_count": null,
   "id": "1801325e",
   "metadata": {},
   "outputs": [],
   "source": [
    "df_error_min.head()"
   ]
  },
  {
   "cell_type": "code",
   "execution_count": null,
   "id": "a6770d9b",
   "metadata": {},
   "outputs": [],
   "source": [
    "df_error_min.shape"
   ]
  },
  {
   "cell_type": "code",
   "execution_count": null,
   "id": "40418b4b",
   "metadata": {},
   "outputs": [],
   "source": []
  },
  {
   "cell_type": "markdown",
   "id": "a7dc7b8e",
   "metadata": {},
   "source": [
    "<a href='#sommaire'>\n",
    "    <img src=\"assets/img/menu.jpg\" />\n",
    "</a>"
   ]
  },
  {
   "cell_type": "code",
   "execution_count": null,
   "id": "a532c944",
   "metadata": {},
   "outputs": [],
   "source": []
  },
  {
   "cell_type": "code",
   "execution_count": null,
   "id": "e4838e95",
   "metadata": {},
   "outputs": [],
   "source": []
  },
  {
   "cell_type": "code",
   "execution_count": null,
   "id": "a750ccc8",
   "metadata": {},
   "outputs": [],
   "source": [
    "# export\n",
    "df_app.to_csv('assets/datas/df_application.csv',index=False)"
   ]
  }
 ],
 "metadata": {
  "kernelspec": {
   "display_name": "Projets",
   "language": "python",
   "name": "projets"
  },
  "language_info": {
   "codemirror_mode": {
    "name": "ipython",
    "version": 3
   },
   "file_extension": ".py",
   "mimetype": "text/x-python",
   "name": "python",
   "nbconvert_exporter": "python",
   "pygments_lexer": "ipython3",
   "version": "3.10.7"
  },
  "toc": {
   "base_numbering": 1,
   "nav_menu": {
    "height": "363px",
    "width": "346px"
   },
   "number_sections": false,
   "sideBar": true,
   "skip_h1_title": false,
   "title_cell": "Projet-3 : Concevez une application au service de la santé publique",
   "title_sidebar": "Contents",
   "toc_cell": true,
   "toc_position": {
    "height": "calc(100% - 180px)",
    "left": "10px",
    "top": "150px",
    "width": "384px"
   },
   "toc_section_display": true,
   "toc_window_display": true
  },
  "varInspector": {
   "cols": {
    "lenName": 16,
    "lenType": 16,
    "lenVar": 40
   },
   "kernels_config": {
    "python": {
     "delete_cmd_postfix": "",
     "delete_cmd_prefix": "del ",
     "library": "var_list.py",
     "varRefreshCmd": "print(var_dic_list())"
    },
    "r": {
     "delete_cmd_postfix": ") ",
     "delete_cmd_prefix": "rm(",
     "library": "var_list.r",
     "varRefreshCmd": "cat(var_dic_list()) "
    }
   },
   "types_to_exclude": [
    "module",
    "function",
    "builtin_function_or_method",
    "instance",
    "_Feature"
   ],
   "window_display": false
  }
 },
 "nbformat": 4,
 "nbformat_minor": 5
}
