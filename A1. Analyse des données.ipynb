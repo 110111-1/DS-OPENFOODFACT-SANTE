{
 "cells": [
  {
   "cell_type": "markdown",
   "id": "e75b50b7",
   "metadata": {
    "toc": true
   },
   "source": [
    "<h1>Projet-3 : Concevez une application au service de la santé publique<span class=\"tocSkip\"></span></h1>\n",
    "<div class=\"toc\"><ul class=\"toc-item\"><li><span><a href=\"#Projet-3-:-Concevez-une-application-au-service-de-la-santé-publique\" data-toc-modified-id=\"Projet-3-:-Concevez-une-application-au-service-de-la-santé-publique-1\">Projet-3 : Concevez une application au service de la santé publique</a></span><ul class=\"toc-item\"><li><span><a href=\"#Introduction\" data-toc-modified-id=\"Introduction-1.1\">Introduction</a></span></li><li><span><a href=\"#Environnement\" data-toc-modified-id=\"Environnement-1.2\">Environnement</a></span></li></ul></li><li><span><a href=\"#1.-Chargement-des-données\" data-toc-modified-id=\"1.-Chargement-des-données-2\">1. Chargement des données</a></span></li></ul></div>"
   ]
  },
  {
   "cell_type": "markdown",
   "id": "13678e5f",
   "metadata": {},
   "source": [
    "# Projet-3 : Concevez une application au service de la santé publique\n",
    "## Introduction \n",
    "***\n",
    "- Traiter le jeu de données afin de repérer des variables pertinentes pour les traitements à venir. Automatiser ces traitements pour éviter de répéter ces opérations.\n",
    "\n",
    "- **L'idée de l'application** : aide à l'identification des produits à surveiller dans le cas de régime alimentaire liées à la surveillance en utilisant la base d'OpenFood Facts\n",
    "***\n",
    "## Environnement"
   ]
  },
  {
   "cell_type": "code",
   "execution_count": 1,
   "id": "ebb8f103",
   "metadata": {},
   "outputs": [],
   "source": [
    "import pandas as pd\n",
    "import numpy as np\n",
    "import sys\n",
    "import warnings\n",
    "import IPython as ip\n",
    "import matplotlib.pyplot as plt\n",
    "import seaborn as sns\n",
    "from IPython.display import display\n",
    "import missingno as msno \n",
    "# Configuration pour travail avec fichier python \"tools\" de fonctions\n",
    "%load_ext autoreload\n",
    "%aimport tools\n",
    "\n",
    "# Set option\n",
    "pd.set_option('display.max_columns', None)\n",
    "pd.set_option('display.max_rows', None)\n",
    "\n",
    "# Recharger les modules pour la conception des fichiers tools\n",
    "\n",
    "%autoreload 1\n",
    "\n",
    "warnings.filterwarnings(\"ignore\")"
   ]
  },
  {
   "cell_type": "markdown",
   "id": "b7619793",
   "metadata": {},
   "source": [
    "# 1. Chargement des données"
   ]
  },
  {
   "cell_type": "code",
   "execution_count": 2,
   "id": "d328aa3d",
   "metadata": {},
   "outputs": [],
   "source": [
    "# Import données\n",
    "data = pd.read_csv('assets/datas/openfoodfacts.csv', sep='\\t', low_memory=False)"
   ]
  },
  {
   "cell_type": "code",
   "execution_count": null,
   "id": "8f59b3e9",
   "metadata": {},
   "outputs": [],
   "source": [
    "# 2. Description d"
   ]
  }
 ],
 "metadata": {
  "kernelspec": {
   "display_name": "Projets",
   "language": "python",
   "name": "projets"
  },
  "language_info": {
   "codemirror_mode": {
    "name": "ipython",
    "version": 3
   },
   "file_extension": ".py",
   "mimetype": "text/x-python",
   "name": "python",
   "nbconvert_exporter": "python",
   "pygments_lexer": "ipython3",
   "version": "3.10.7"
  },
  "toc": {
   "base_numbering": 1,
   "nav_menu": {},
   "number_sections": false,
   "sideBar": true,
   "skip_h1_title": false,
   "title_cell": "Projet-3 : Concevez une application au service de la santé publique",
   "title_sidebar": "Contents",
   "toc_cell": true,
   "toc_position": {
    "height": "calc(100% - 180px)",
    "left": "10px",
    "top": "150px",
    "width": "384px"
   },
   "toc_section_display": true,
   "toc_window_display": true
  },
  "varInspector": {
   "cols": {
    "lenName": 16,
    "lenType": 16,
    "lenVar": 40
   },
   "kernels_config": {
    "python": {
     "delete_cmd_postfix": "",
     "delete_cmd_prefix": "del ",
     "library": "var_list.py",
     "varRefreshCmd": "print(var_dic_list())"
    },
    "r": {
     "delete_cmd_postfix": ") ",
     "delete_cmd_prefix": "rm(",
     "library": "var_list.r",
     "varRefreshCmd": "cat(var_dic_list()) "
    }
   },
   "types_to_exclude": [
    "module",
    "function",
    "builtin_function_or_method",
    "instance",
    "_Feature"
   ],
   "window_display": false
  }
 },
 "nbformat": 4,
 "nbformat_minor": 5
}
